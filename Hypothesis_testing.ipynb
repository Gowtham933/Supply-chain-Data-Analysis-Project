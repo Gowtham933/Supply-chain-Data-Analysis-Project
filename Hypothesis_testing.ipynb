{
  "nbformat": 4,
  "nbformat_minor": 0,
  "metadata": {
    "colab": {
      "provenance": [],
      "authorship_tag": "ABX9TyN5mZ0RiZswiRDgQrmKxsGL",
      "include_colab_link": true
    },
    "kernelspec": {
      "name": "python3",
      "display_name": "Python 3"
    },
    "language_info": {
      "name": "python"
    }
  },
  "cells": [
    {
      "cell_type": "markdown",
      "metadata": {
        "id": "view-in-github",
        "colab_type": "text"
      },
      "source": [
        "<a href=\"https://colab.research.google.com/github/Gowtham933/Supply-chain-Data-Analysis-Project/blob/main/Hypothesis_testing.ipynb\" target=\"_parent\"><img src=\"https://colab.research.google.com/assets/colab-badge.svg\" alt=\"Open In Colab\"/></a>"
      ]
    },
    {
      "cell_type": "markdown",
      "source": [
        "#Hypothesis Testing\n",
        "Hypothesis testing is a statastical analysis test, which putting the assumptions about a population and to prove the assumptions is correct or wrong.\n",
        "\n",
        "**Two Hypothesis condition**\n",
        "- Null Hypothesis (H0): This hypothesis states that there is no effect or difference, and it is the hypothesis you attempt to reject with your test.\n",
        "- Alternative Hypothesis (H1 or Ha): This hypothesis is what you might believe to be true or hope to prove true. It is usually considered the opposite of the null hypothesis.\n",
        "\n",
        "**Choose the Significance Level (α)**\n",
        "\n",
        "The significance level, often denoted by alpha (α), is the probability of rejecting the null hypothesis when it is true. Common choices for α are 0.05 (5%), 0.01 (1%), and 0.10 (10%).\n",
        "\n",
        "Hypothesis Testing Formula\n",
        "\n",
        "Z = ( x̅ – μ0 ) / (σ /√n)\n",
        "\n",
        "    Here, x̅ is the sample mean,\n",
        "    μ0 is the population mean,\n",
        "    σ is the standard deviation,\n",
        "    n is the sample size."
      ],
      "metadata": {
        "id": "01V-kgzWegSJ"
      }
    },
    {
      "cell_type": "code",
      "source": [
        "#importing necessary library\n",
        "import pandas as pd\n",
        "import numpy as np\n",
        "import scipy.stats as stats\n",
        "import statsmodels.api as sm\n",
        "from statsmodels.formula.api import ols\n",
        "import seaborn as sns\n",
        "import matplotlib.pyplot as plt"
      ],
      "metadata": {
        "id": "9nu6D2V6k-C3"
      },
      "execution_count": 18,
      "outputs": []
    },
    {
      "cell_type": "code",
      "source": [
        "#Load data CSV file into the pandas data frame\n",
        "data= pd.read_csv(\"/content/supply_chain_data.csv\")\n",
        "data.head() # to understnd the data look for first few rows of the datasets"
      ],
      "metadata": {
        "colab": {
          "base_uri": "https://localhost:8080/",
          "height": 395
        },
        "id": "XOU-wLBflBlH",
        "outputId": "953c884d-d0f8-4b23-91e3-44daaa39121f"
      },
      "execution_count": 19,
      "outputs": [
        {
          "output_type": "execute_result",
          "data": {
            "text/plain": [
              "  Product type   SKU      Price  Availability  Number of products sold  \\\n",
              "0     haircare  SKU0  69.808006            55                      802   \n",
              "1     skincare  SKU1  14.843523            95                      736   \n",
              "2     haircare  SKU2  11.319683            34                        8   \n",
              "3     skincare  SKU3  61.163343            68                       83   \n",
              "4     skincare  SKU4   4.805496            26                      871   \n",
              "\n",
              "   Revenue generated Customer demographics  Stock levels  Lead times  \\\n",
              "0        8661.996792            Non-binary            58           7   \n",
              "1        7460.900065                Female            53          30   \n",
              "2        9577.749626               Unknown             1          10   \n",
              "3        7766.836426            Non-binary            23          13   \n",
              "4        2686.505152            Non-binary             5           3   \n",
              "\n",
              "   Order quantities  ...  Location Lead time  Production volumes  \\\n",
              "0                96  ...    Mumbai        29                 215   \n",
              "1                37  ...    Mumbai        23                 517   \n",
              "2                88  ...    Mumbai        12                 971   \n",
              "3                59  ...   Kolkata        24                 937   \n",
              "4                56  ...     Delhi         5                 414   \n",
              "\n",
              "  Manufacturing lead time Manufacturing costs  Inspection results  \\\n",
              "0                      29           46.279879             Pending   \n",
              "1                      30           33.616769             Pending   \n",
              "2                      27           30.688019             Pending   \n",
              "3                      18           35.624741                Fail   \n",
              "4                       3           92.065161                Fail   \n",
              "\n",
              "   Defect rates  Transportation modes   Routes       Costs  \n",
              "0      0.226410                  Road  Route B  187.752075  \n",
              "1      4.854068                  Road  Route B  503.065579  \n",
              "2      4.580593                   Air  Route C  141.920282  \n",
              "3      4.746649                  Rail  Route A  254.776159  \n",
              "4      3.145580                   Air  Route A  923.440632  \n",
              "\n",
              "[5 rows x 24 columns]"
            ],
            "text/html": [
              "\n",
              "  <div id=\"df-caf4fec2-3e51-405c-b91b-fc924444d5ef\" class=\"colab-df-container\">\n",
              "    <div>\n",
              "<style scoped>\n",
              "    .dataframe tbody tr th:only-of-type {\n",
              "        vertical-align: middle;\n",
              "    }\n",
              "\n",
              "    .dataframe tbody tr th {\n",
              "        vertical-align: top;\n",
              "    }\n",
              "\n",
              "    .dataframe thead th {\n",
              "        text-align: right;\n",
              "    }\n",
              "</style>\n",
              "<table border=\"1\" class=\"dataframe\">\n",
              "  <thead>\n",
              "    <tr style=\"text-align: right;\">\n",
              "      <th></th>\n",
              "      <th>Product type</th>\n",
              "      <th>SKU</th>\n",
              "      <th>Price</th>\n",
              "      <th>Availability</th>\n",
              "      <th>Number of products sold</th>\n",
              "      <th>Revenue generated</th>\n",
              "      <th>Customer demographics</th>\n",
              "      <th>Stock levels</th>\n",
              "      <th>Lead times</th>\n",
              "      <th>Order quantities</th>\n",
              "      <th>...</th>\n",
              "      <th>Location</th>\n",
              "      <th>Lead time</th>\n",
              "      <th>Production volumes</th>\n",
              "      <th>Manufacturing lead time</th>\n",
              "      <th>Manufacturing costs</th>\n",
              "      <th>Inspection results</th>\n",
              "      <th>Defect rates</th>\n",
              "      <th>Transportation modes</th>\n",
              "      <th>Routes</th>\n",
              "      <th>Costs</th>\n",
              "    </tr>\n",
              "  </thead>\n",
              "  <tbody>\n",
              "    <tr>\n",
              "      <th>0</th>\n",
              "      <td>haircare</td>\n",
              "      <td>SKU0</td>\n",
              "      <td>69.808006</td>\n",
              "      <td>55</td>\n",
              "      <td>802</td>\n",
              "      <td>8661.996792</td>\n",
              "      <td>Non-binary</td>\n",
              "      <td>58</td>\n",
              "      <td>7</td>\n",
              "      <td>96</td>\n",
              "      <td>...</td>\n",
              "      <td>Mumbai</td>\n",
              "      <td>29</td>\n",
              "      <td>215</td>\n",
              "      <td>29</td>\n",
              "      <td>46.279879</td>\n",
              "      <td>Pending</td>\n",
              "      <td>0.226410</td>\n",
              "      <td>Road</td>\n",
              "      <td>Route B</td>\n",
              "      <td>187.752075</td>\n",
              "    </tr>\n",
              "    <tr>\n",
              "      <th>1</th>\n",
              "      <td>skincare</td>\n",
              "      <td>SKU1</td>\n",
              "      <td>14.843523</td>\n",
              "      <td>95</td>\n",
              "      <td>736</td>\n",
              "      <td>7460.900065</td>\n",
              "      <td>Female</td>\n",
              "      <td>53</td>\n",
              "      <td>30</td>\n",
              "      <td>37</td>\n",
              "      <td>...</td>\n",
              "      <td>Mumbai</td>\n",
              "      <td>23</td>\n",
              "      <td>517</td>\n",
              "      <td>30</td>\n",
              "      <td>33.616769</td>\n",
              "      <td>Pending</td>\n",
              "      <td>4.854068</td>\n",
              "      <td>Road</td>\n",
              "      <td>Route B</td>\n",
              "      <td>503.065579</td>\n",
              "    </tr>\n",
              "    <tr>\n",
              "      <th>2</th>\n",
              "      <td>haircare</td>\n",
              "      <td>SKU2</td>\n",
              "      <td>11.319683</td>\n",
              "      <td>34</td>\n",
              "      <td>8</td>\n",
              "      <td>9577.749626</td>\n",
              "      <td>Unknown</td>\n",
              "      <td>1</td>\n",
              "      <td>10</td>\n",
              "      <td>88</td>\n",
              "      <td>...</td>\n",
              "      <td>Mumbai</td>\n",
              "      <td>12</td>\n",
              "      <td>971</td>\n",
              "      <td>27</td>\n",
              "      <td>30.688019</td>\n",
              "      <td>Pending</td>\n",
              "      <td>4.580593</td>\n",
              "      <td>Air</td>\n",
              "      <td>Route C</td>\n",
              "      <td>141.920282</td>\n",
              "    </tr>\n",
              "    <tr>\n",
              "      <th>3</th>\n",
              "      <td>skincare</td>\n",
              "      <td>SKU3</td>\n",
              "      <td>61.163343</td>\n",
              "      <td>68</td>\n",
              "      <td>83</td>\n",
              "      <td>7766.836426</td>\n",
              "      <td>Non-binary</td>\n",
              "      <td>23</td>\n",
              "      <td>13</td>\n",
              "      <td>59</td>\n",
              "      <td>...</td>\n",
              "      <td>Kolkata</td>\n",
              "      <td>24</td>\n",
              "      <td>937</td>\n",
              "      <td>18</td>\n",
              "      <td>35.624741</td>\n",
              "      <td>Fail</td>\n",
              "      <td>4.746649</td>\n",
              "      <td>Rail</td>\n",
              "      <td>Route A</td>\n",
              "      <td>254.776159</td>\n",
              "    </tr>\n",
              "    <tr>\n",
              "      <th>4</th>\n",
              "      <td>skincare</td>\n",
              "      <td>SKU4</td>\n",
              "      <td>4.805496</td>\n",
              "      <td>26</td>\n",
              "      <td>871</td>\n",
              "      <td>2686.505152</td>\n",
              "      <td>Non-binary</td>\n",
              "      <td>5</td>\n",
              "      <td>3</td>\n",
              "      <td>56</td>\n",
              "      <td>...</td>\n",
              "      <td>Delhi</td>\n",
              "      <td>5</td>\n",
              "      <td>414</td>\n",
              "      <td>3</td>\n",
              "      <td>92.065161</td>\n",
              "      <td>Fail</td>\n",
              "      <td>3.145580</td>\n",
              "      <td>Air</td>\n",
              "      <td>Route A</td>\n",
              "      <td>923.440632</td>\n",
              "    </tr>\n",
              "  </tbody>\n",
              "</table>\n",
              "<p>5 rows × 24 columns</p>\n",
              "</div>\n",
              "    <div class=\"colab-df-buttons\">\n",
              "\n",
              "  <div class=\"colab-df-container\">\n",
              "    <button class=\"colab-df-convert\" onclick=\"convertToInteractive('df-caf4fec2-3e51-405c-b91b-fc924444d5ef')\"\n",
              "            title=\"Convert this dataframe to an interactive table.\"\n",
              "            style=\"display:none;\">\n",
              "\n",
              "  <svg xmlns=\"http://www.w3.org/2000/svg\" height=\"24px\" viewBox=\"0 -960 960 960\">\n",
              "    <path d=\"M120-120v-720h720v720H120Zm60-500h600v-160H180v160Zm220 220h160v-160H400v160Zm0 220h160v-160H400v160ZM180-400h160v-160H180v160Zm440 0h160v-160H620v160ZM180-180h160v-160H180v160Zm440 0h160v-160H620v160Z\"/>\n",
              "  </svg>\n",
              "    </button>\n",
              "\n",
              "  <style>\n",
              "    .colab-df-container {\n",
              "      display:flex;\n",
              "      gap: 12px;\n",
              "    }\n",
              "\n",
              "    .colab-df-convert {\n",
              "      background-color: #E8F0FE;\n",
              "      border: none;\n",
              "      border-radius: 50%;\n",
              "      cursor: pointer;\n",
              "      display: none;\n",
              "      fill: #1967D2;\n",
              "      height: 32px;\n",
              "      padding: 0 0 0 0;\n",
              "      width: 32px;\n",
              "    }\n",
              "\n",
              "    .colab-df-convert:hover {\n",
              "      background-color: #E2EBFA;\n",
              "      box-shadow: 0px 1px 2px rgba(60, 64, 67, 0.3), 0px 1px 3px 1px rgba(60, 64, 67, 0.15);\n",
              "      fill: #174EA6;\n",
              "    }\n",
              "\n",
              "    .colab-df-buttons div {\n",
              "      margin-bottom: 4px;\n",
              "    }\n",
              "\n",
              "    [theme=dark] .colab-df-convert {\n",
              "      background-color: #3B4455;\n",
              "      fill: #D2E3FC;\n",
              "    }\n",
              "\n",
              "    [theme=dark] .colab-df-convert:hover {\n",
              "      background-color: #434B5C;\n",
              "      box-shadow: 0px 1px 3px 1px rgba(0, 0, 0, 0.15);\n",
              "      filter: drop-shadow(0px 1px 2px rgba(0, 0, 0, 0.3));\n",
              "      fill: #FFFFFF;\n",
              "    }\n",
              "  </style>\n",
              "\n",
              "    <script>\n",
              "      const buttonEl =\n",
              "        document.querySelector('#df-caf4fec2-3e51-405c-b91b-fc924444d5ef button.colab-df-convert');\n",
              "      buttonEl.style.display =\n",
              "        google.colab.kernel.accessAllowed ? 'block' : 'none';\n",
              "\n",
              "      async function convertToInteractive(key) {\n",
              "        const element = document.querySelector('#df-caf4fec2-3e51-405c-b91b-fc924444d5ef');\n",
              "        const dataTable =\n",
              "          await google.colab.kernel.invokeFunction('convertToInteractive',\n",
              "                                                    [key], {});\n",
              "        if (!dataTable) return;\n",
              "\n",
              "        const docLinkHtml = 'Like what you see? Visit the ' +\n",
              "          '<a target=\"_blank\" href=https://colab.research.google.com/notebooks/data_table.ipynb>data table notebook</a>'\n",
              "          + ' to learn more about interactive tables.';\n",
              "        element.innerHTML = '';\n",
              "        dataTable['output_type'] = 'display_data';\n",
              "        await google.colab.output.renderOutput(dataTable, element);\n",
              "        const docLink = document.createElement('div');\n",
              "        docLink.innerHTML = docLinkHtml;\n",
              "        element.appendChild(docLink);\n",
              "      }\n",
              "    </script>\n",
              "  </div>\n",
              "\n",
              "\n",
              "<div id=\"df-45578518-980d-4496-981e-3db157e031b0\">\n",
              "  <button class=\"colab-df-quickchart\" onclick=\"quickchart('df-45578518-980d-4496-981e-3db157e031b0')\"\n",
              "            title=\"Suggest charts\"\n",
              "            style=\"display:none;\">\n",
              "\n",
              "<svg xmlns=\"http://www.w3.org/2000/svg\" height=\"24px\"viewBox=\"0 0 24 24\"\n",
              "     width=\"24px\">\n",
              "    <g>\n",
              "        <path d=\"M19 3H5c-1.1 0-2 .9-2 2v14c0 1.1.9 2 2 2h14c1.1 0 2-.9 2-2V5c0-1.1-.9-2-2-2zM9 17H7v-7h2v7zm4 0h-2V7h2v10zm4 0h-2v-4h2v4z\"/>\n",
              "    </g>\n",
              "</svg>\n",
              "  </button>\n",
              "\n",
              "<style>\n",
              "  .colab-df-quickchart {\n",
              "      --bg-color: #E8F0FE;\n",
              "      --fill-color: #1967D2;\n",
              "      --hover-bg-color: #E2EBFA;\n",
              "      --hover-fill-color: #174EA6;\n",
              "      --disabled-fill-color: #AAA;\n",
              "      --disabled-bg-color: #DDD;\n",
              "  }\n",
              "\n",
              "  [theme=dark] .colab-df-quickchart {\n",
              "      --bg-color: #3B4455;\n",
              "      --fill-color: #D2E3FC;\n",
              "      --hover-bg-color: #434B5C;\n",
              "      --hover-fill-color: #FFFFFF;\n",
              "      --disabled-bg-color: #3B4455;\n",
              "      --disabled-fill-color: #666;\n",
              "  }\n",
              "\n",
              "  .colab-df-quickchart {\n",
              "    background-color: var(--bg-color);\n",
              "    border: none;\n",
              "    border-radius: 50%;\n",
              "    cursor: pointer;\n",
              "    display: none;\n",
              "    fill: var(--fill-color);\n",
              "    height: 32px;\n",
              "    padding: 0;\n",
              "    width: 32px;\n",
              "  }\n",
              "\n",
              "  .colab-df-quickchart:hover {\n",
              "    background-color: var(--hover-bg-color);\n",
              "    box-shadow: 0 1px 2px rgba(60, 64, 67, 0.3), 0 1px 3px 1px rgba(60, 64, 67, 0.15);\n",
              "    fill: var(--button-hover-fill-color);\n",
              "  }\n",
              "\n",
              "  .colab-df-quickchart-complete:disabled,\n",
              "  .colab-df-quickchart-complete:disabled:hover {\n",
              "    background-color: var(--disabled-bg-color);\n",
              "    fill: var(--disabled-fill-color);\n",
              "    box-shadow: none;\n",
              "  }\n",
              "\n",
              "  .colab-df-spinner {\n",
              "    border: 2px solid var(--fill-color);\n",
              "    border-color: transparent;\n",
              "    border-bottom-color: var(--fill-color);\n",
              "    animation:\n",
              "      spin 1s steps(1) infinite;\n",
              "  }\n",
              "\n",
              "  @keyframes spin {\n",
              "    0% {\n",
              "      border-color: transparent;\n",
              "      border-bottom-color: var(--fill-color);\n",
              "      border-left-color: var(--fill-color);\n",
              "    }\n",
              "    20% {\n",
              "      border-color: transparent;\n",
              "      border-left-color: var(--fill-color);\n",
              "      border-top-color: var(--fill-color);\n",
              "    }\n",
              "    30% {\n",
              "      border-color: transparent;\n",
              "      border-left-color: var(--fill-color);\n",
              "      border-top-color: var(--fill-color);\n",
              "      border-right-color: var(--fill-color);\n",
              "    }\n",
              "    40% {\n",
              "      border-color: transparent;\n",
              "      border-right-color: var(--fill-color);\n",
              "      border-top-color: var(--fill-color);\n",
              "    }\n",
              "    60% {\n",
              "      border-color: transparent;\n",
              "      border-right-color: var(--fill-color);\n",
              "    }\n",
              "    80% {\n",
              "      border-color: transparent;\n",
              "      border-right-color: var(--fill-color);\n",
              "      border-bottom-color: var(--fill-color);\n",
              "    }\n",
              "    90% {\n",
              "      border-color: transparent;\n",
              "      border-bottom-color: var(--fill-color);\n",
              "    }\n",
              "  }\n",
              "</style>\n",
              "\n",
              "  <script>\n",
              "    async function quickchart(key) {\n",
              "      const quickchartButtonEl =\n",
              "        document.querySelector('#' + key + ' button');\n",
              "      quickchartButtonEl.disabled = true;  // To prevent multiple clicks.\n",
              "      quickchartButtonEl.classList.add('colab-df-spinner');\n",
              "      try {\n",
              "        const charts = await google.colab.kernel.invokeFunction(\n",
              "            'suggestCharts', [key], {});\n",
              "      } catch (error) {\n",
              "        console.error('Error during call to suggestCharts:', error);\n",
              "      }\n",
              "      quickchartButtonEl.classList.remove('colab-df-spinner');\n",
              "      quickchartButtonEl.classList.add('colab-df-quickchart-complete');\n",
              "    }\n",
              "    (() => {\n",
              "      let quickchartButtonEl =\n",
              "        document.querySelector('#df-45578518-980d-4496-981e-3db157e031b0 button');\n",
              "      quickchartButtonEl.style.display =\n",
              "        google.colab.kernel.accessAllowed ? 'block' : 'none';\n",
              "    })();\n",
              "  </script>\n",
              "</div>\n",
              "\n",
              "    </div>\n",
              "  </div>\n"
            ],
            "application/vnd.google.colaboratory.intrinsic+json": {
              "type": "dataframe",
              "variable_name": "data"
            }
          },
          "metadata": {},
          "execution_count": 19
        }
      ]
    },
    {
      "cell_type": "code",
      "source": [
        "(data.columns)"
      ],
      "metadata": {
        "id": "Bsjc5n1xQydI",
        "outputId": "1f4135b5-7a02-4084-e0e2-2b9b883ad285",
        "colab": {
          "base_uri": "https://localhost:8080/"
        }
      },
      "execution_count": 20,
      "outputs": [
        {
          "output_type": "execute_result",
          "data": {
            "text/plain": [
              "Index(['Product type', 'SKU', 'Price', 'Availability',\n",
              "       'Number of products sold', 'Revenue generated', 'Customer demographics',\n",
              "       'Stock levels', 'Lead times', 'Order quantities', 'Shipping times',\n",
              "       'Shipping carriers', 'Shipping costs', 'Supplier name', 'Location',\n",
              "       'Lead time', 'Production volumes', 'Manufacturing lead time',\n",
              "       'Manufacturing costs', 'Inspection results', 'Defect rates',\n",
              "       'Transportation modes', 'Routes', 'Costs'],\n",
              "      dtype='object')"
            ]
          },
          "metadata": {},
          "execution_count": 20
        }
      ]
    },
    {
      "cell_type": "code",
      "source": [
        "# prompt: Count SUK\n",
        "\n",
        "Sample_count = data['SKU'].value_counts()\n",
        "Sample_count\n"
      ],
      "metadata": {
        "id": "8VtaIFLGlIqr",
        "outputId": "79244ef9-1d70-4282-cba7-c6cc4fb9e6fc",
        "colab": {
          "base_uri": "https://localhost:8080/"
        }
      },
      "execution_count": 24,
      "outputs": [
        {
          "output_type": "execute_result",
          "data": {
            "text/plain": [
              "SKU\n",
              "SKU0     1\n",
              "SKU63    1\n",
              "SKU73    1\n",
              "SKU72    1\n",
              "SKU71    1\n",
              "        ..\n",
              "SKU30    1\n",
              "SKU29    1\n",
              "SKU28    1\n",
              "SKU27    1\n",
              "SKU99    1\n",
              "Name: count, Length: 100, dtype: int64"
            ]
          },
          "metadata": {},
          "execution_count": 24
        }
      ]
    },
    {
      "cell_type": "markdown",
      "source": [
        "## T- Test\n",
        "A t-test is a test usded for hypothesis testing in statistics. It determine if there is a statistically significant differnece between the means of two varaibles.\n",
        "\n",
        "We have three shipping carriers just for example performing T-test between two of them.(Used: **\"Independent samples t-test\"**)\n",
        "\n",
        "- Step 1:(Formulate Hypotheses)\n",
        " - Null hypothesis (H0​): The mean shipping times for the two carriers A and B are equal.\n",
        " - Alternative hypothesis (H1​): The mean shipping times for the two carriers A and B are different.\n",
        "- Step 2:( Selecting two carrier out of three by grouping)\n",
        "- Step 3: (Performing the T-test)\n",
        " - Idependedent samples to compare means of the two selcted carriers.\n",
        "\n",
        "\n",
        "\n"
      ],
      "metadata": {
        "id": "891YdHwLPD-5"
      }
    },
    {
      "cell_type": "code",
      "source": [
        "# Group the Shipping carriers A and B by shipping timings\n",
        "\n",
        "carrier_a = data.groupby('Shipping carriers')['Shipping times'].agg(list)[0]\n",
        "carrier_b = data.groupby('Shipping carriers')['Shipping times'].agg(list)[1]\n"
      ],
      "metadata": {
        "id": "JQowd4pHj_TO"
      },
      "execution_count": null,
      "outputs": []
    },
    {
      "cell_type": "code",
      "source": [
        "# Perform the t-test to prove\n",
        "t_statistic, p_value = stats.ttest_ind(carrier_a, carrier_b)"
      ],
      "metadata": {
        "id": "5f7596U2Vd_L"
      },
      "execution_count": null,
      "outputs": []
    },
    {
      "cell_type": "code",
      "source": [
        "print(f'T-statistic: {t_statistic}, P-value: {p_value}')"
      ],
      "metadata": {
        "id": "3_c-3PWwV6Ef",
        "outputId": "00bb1328-c55d-4c91-ac4a-b614dd4e7d89",
        "colab": {
          "base_uri": "https://localhost:8080/"
        }
      },
      "execution_count": null,
      "outputs": [
        {
          "output_type": "stream",
          "name": "stdout",
          "text": [
            "T-statistic: 1.245958311135371, P-value: 0.2169936688645812\n"
          ]
        }
      ]
    },
    {
      "cell_type": "code",
      "source": [
        "# Parameters\n",
        "t_statistic = 1.245958311135371\n",
        "p_value = 0.2169936688645812\n",
        "alpha = 0.05\n",
        "# independent sample t- test is used so dgree of freedom is choosen by n-1 sample. n represnt number of samples\n",
        "df = 100 - 1\n",
        "\n",
        "# Generate x values\n",
        "x = np.linspace(-4, 4, 1000)\n",
        "y = stats.t.pdf(x, df)\n",
        "\n",
        "# Plot t-distribution\n",
        "plt.figure(figsize=(10, 6))\n",
        "plt.plot(x, y, label='t-distribution (df=99)')\n",
        "\n",
        "# Critical value for two-tailed test\n",
        "critical_value = stats.t.ppf(1 - alpha / 2, df)\n",
        "\n",
        "# Shade critical regions\n",
        "plt.fill_between(x, 0, y, where=(x <= -critical_value) | (x >= critical_value), color='red', alpha=0.5, label='Critical region (α=0.05)')\n",
        "\n",
        "# Mark test statistic\n",
        "plt.axvline(t_statistic, color='blue', linestyle='--', label=f't-statistic = {t_statistic:.2f}')\n",
        "plt.axvline(-t_statistic, color='blue', linestyle='--')\n",
        "\n",
        "# Annotations\n",
        "plt.text(t_statistic + 0.2, 0.1, f'p-value = {p_value:.3f}', color='blue')\n",
        "\n",
        "# Labels and title\n",
        "plt.title('t-distribution with Test Statistic and Critical Regions')\n",
        "plt.xlabel('t value')\n",
        "plt.ylabel('Probability Density')\n",
        "plt.legend()\n",
        "\n",
        "# Show plot\n",
        "plt.show()"
      ],
      "metadata": {
        "id": "Ydkicx1ukRAL",
        "outputId": "f1b3caf5-afa9-49ee-bc6f-33bbe45eb966",
        "colab": {
          "base_uri": "https://localhost:8080/",
          "height": 564
        }
      },
      "execution_count": 30,
      "outputs": [
        {
          "output_type": "display_data",
          "data": {
            "text/plain": [
              "<Figure size 1000x600 with 1 Axes>"
            ],
            "image/png": "[encoded data removed]"
          },
          "metadata": {}
        }
      ]
    },
    {
      "cell_type": "markdown",
      "source": [
        "Here assuming the common significance level of 0.05 by comparing the **P-value (0.217) > α (0.05)** -->  Since the p-value is greater than the significance level, you do **not reject the null hypothesis**.\n",
        "\n",
        "###Conclusion:\n",
        "\n",
        "Based on the t-statistic of 1.246 and the p-value of 0.217, there is not enough evidence to reject the null hypothesis at the 0.05 significance level. This suggests that the observed data is consistent with the null hypothesis, and any observed difference is likely due to random chance rather than a true effect.\n"
      ],
      "metadata": {
        "id": "Zm0_HTEIiG7X"
      }
    },
    {
      "cell_type": "code",
      "source": [
        "# prompt: mean carrier_a\n",
        "\n",
        "carrier_a_mean = np.mean(carrier_a)\n",
        "print(carrier_a_mean)\n",
        "carrier_b_mean = np.mean(carrier_b)\n",
        "print(carrier_b_mean)\n"
      ],
      "metadata": {
        "id": "z8kMHmslpqXN",
        "outputId": "f70091b3-3e36-47c5-bc77-2b165aee1d54",
        "colab": {
          "base_uri": "https://localhost:8080/"
        }
      },
      "execution_count": 35,
      "outputs": [
        {
          "output_type": "stream",
          "name": "stdout",
          "text": [
            "6.142857142857143\n",
            "5.3023255813953485\n"
          ]
        }
      ]
    },
    {
      "cell_type": "markdown",
      "source": [
        "Possible Reasons for Not Rejecting the Null Hypothesis:\n",
        "\n",
        "  - Small Sample Size: If the sample size is small, the test might not have enough power to detect a difference even if the means are different.\n",
        "\n",
        "  - Variability in Data: High variability within each carrier’s shipping times can lead to a higher standard error, which makes it harder to detect a significant difference.\n",
        "\n",
        "  - Significance Level (α): If the chosen significance level is too stringent (e.g., α = 0.01), it might be harder to reject the null hypothesis.\n",
        "\n",
        "  - Actual Difference: The difference in means (6.1 vs. 5.3) might not be large enough to be statistically significant given the variability in the data."
      ],
      "metadata": {
        "id": "toIRQKp7r5aR"
      }
    },
    {
      "cell_type": "markdown",
      "source": [
        "##Analysis of Variance(ANOVA)\n",
        "\n",
        "As we have more then 2 groups of varaibles conducting, typically we are using an analysis of variance(ANOVA) which is more appropriate to determine if there any statistically significant differences in the means of the groups.\n",
        "\n",
        "- Step 1:(Formulate Hypotheses)\n",
        " - Null hypothesis (H0​): The mean shipping times are equal across all three carriers.\n",
        "    \n",
        "       H0:μ1=μ2=μ3H0​:μ1​=μ2​=μ3​\n",
        "\n",
        " - Alternative Hypothesis (H₁): At least one of the mean shipping times is different.\n",
        "\n",
        "   H1​:At least one μi​ is different (where μi​ denotes the mean shipping time for carrier i).\n",
        "\n",
        "- Step 2: (group data)\n",
        "   - Obtain shipping time data for the same   set of shipments handled by three different carriers. Ideally, the shipments should be randomly assigned to each carrier to avoid bias.\n",
        "\n",
        "- Step 3: (Calculate Descriptive Statistics)\n",
        " - Calculate the sample mean shipping times (xˉ1,xˉ2,xˉ3xˉ1​,xˉ2​,xˉ3​), sample standard deviations, and sample sizes (n1,n2,n3n1​,n2​,n3​) for each carrier.\n",
        "- Step 4: (Perform ANOVA Test)\n",
        " - The ANOVA test will provide an F-statistic and a p-value."
      ],
      "metadata": {
        "id": "6PpGXWKNxfnW"
      }
    },
    {
      "cell_type": "code",
      "source": [
        "# Group the Shipping carriers A, B and C by shipping timings\n",
        "\n",
        "carrier_a_times = data.groupby('Shipping carriers')['Shipping times'].agg(list)[0]\n",
        "carrier_b_times= data.groupby('Shipping carriers')['Shipping times'].agg(list)[1]\n",
        "carrier_c_times = data.groupby('Shipping carriers')['Shipping times'].agg(list)[2]"
      ],
      "metadata": {
        "id": "yUL7okwc0px9"
      },
      "execution_count": 36,
      "outputs": []
    },
    {
      "cell_type": "code",
      "source": [
        "# Perform one-way ANOVA\n",
        "f_statistic, p_value = stats.f_oneway(carrier_a_times, carrier_b_times, carrier_c_times)\n",
        "\n",
        "# Print results\n",
        "print(f'F-statistic: {f_statistic:.4f}')\n",
        "print(f'P-value: {p_value:.4f}')\n",
        "\n",
        "# Interpret results\n",
        "alpha = 0.05\n",
        "if p_value < alpha:\n",
        "    print(\"Reject null hypothesis: There is a significant difference in shipping times between at least one pair of carriers.\")\n",
        "else:\n",
        "    print(\"Fail to reject null hypothesis: There is no significant difference in shipping times between the carriers.\")"
      ],
      "metadata": {
        "id": "eHmkibiS0-TP",
        "outputId": "a59ace96-5d35-46a6-e81a-037f2dd0522e",
        "colab": {
          "base_uri": "https://localhost:8080/"
        }
      },
      "execution_count": 37,
      "outputs": [
        {
          "output_type": "stream",
          "name": "stdout",
          "text": [
            "F-statistic: 1.0305\n",
            "P-value: 0.3607\n",
            "Fail to reject null hypothesis: There is no significant difference in shipping times between the carriers.\n"
          ]
        }
      ]
    },
    {
      "cell_type": "code",
      "source": [],
      "metadata": {
        "id": "H5SH12iw3op4"
      },
      "execution_count": null,
      "outputs": []
    }
  ]
}