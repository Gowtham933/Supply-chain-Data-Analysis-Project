{
  "cells": [
    {
      "cell_type": "markdown",
      "metadata": {
        "id": "view-in-github",
        "colab_type": "text"
      },
      "source": [
        "<a href=\"https://colab.research.google.com/github/Gowtham933/Supply-chain-Data-Analysis-Project/blob/main/Pyspark_SQL.ipynb\" target=\"_parent\"><img src=\"https://colab.research.google.com/assets/colab-badge.svg\" alt=\"Open In Colab\"/></a>"
      ]
    },
    {
      "cell_type": "code",
      "source": [
        "!pip install pyspark"
      ],
      "metadata": {
        "colab": {
          "base_uri": "https://localhost:8080/"
        },
        "id": "k4ALanXTmhSV",
        "outputId": "31cb3437-977d-4cc3-d464-35960a70f96f"
      },
      "execution_count": 36,
      "outputs": [
        {
          "output_type": "stream",
          "name": "stdout",
          "text": [
            "Collecting pyspark\n",
            "  Downloading pyspark-3.5.1.tar.gz (317.0 MB)\n",
            "\u001b[2K     \u001b[90m━━━━━━━━━━━━━━━━━━━━━━━━━━━━━━━━━━━━━━━━\u001b[0m \u001b[32m317.0/317.0 MB\u001b[0m \u001b[31m1.9 MB/s\u001b[0m eta \u001b[36m0:00:00\u001b[0m\n",
            "\u001b[?25h  Preparing metadata (setup.py) ... \u001b[?25l\u001b[?25hdone\n",
            "Requirement already satisfied: py4j==0.10.9.7 in /usr/local/lib/python3.10/dist-packages (from pyspark) (0.10.9.7)\n",
            "Building wheels for collected packages: pyspark\n",
            "  Building wheel for pyspark (setup.py) ... \u001b[?25l\u001b[?25hdone\n",
            "  Created wheel for pyspark: filename=pyspark-3.5.1-py2.py3-none-any.whl size=317488491 sha256=cb1f44bf7e0af20a8afbb275fad62c324e6c248fe3bee18b0fd7a5ef967b2399\n",
            "  Stored in directory: /root/.cache/pip/wheels/80/1d/60/2c256ed38dddce2fdd93be545214a63e02fbd8d74fb0b7f3a6\n",
            "Successfully built pyspark\n",
            "Installing collected packages: pyspark\n",
            "Successfully installed pyspark-3.5.1\n"
          ]
        }
      ]
    },
    {
      "cell_type": "code",
      "source": [
        "from pyspark.sql import SparkSession\n",
        "from pyspark.sql.types import StructType, StructField, StringType, FloatType, IntegerType\n",
        "import pandas as pd\n",
        "import os"
      ],
      "metadata": {
        "id": "DJu3tuT6qNgk"
      },
      "execution_count": 37,
      "outputs": []
    },
    {
      "cell_type": "code",
      "source": [
        "spark = SparkSession.builder \\\n",
        "    .appName(\"Spark SQL Database\") \\\n",
        "    .config(\"spark.some.config.option\", \"some-value\") \\\n",
        "    .getOrCreate()"
      ],
      "metadata": {
        "id": "6PYgZCehumpH"
      },
      "execution_count": 48,
      "outputs": []
    },
    {
      "cell_type": "code",
      "source": [
        "df = pd.read_csv('/content/supply_chain_data.csv')"
      ],
      "metadata": {
        "id": "pRQoA3C3tqS1"
      },
      "execution_count": 49,
      "outputs": []
    },
    {
      "cell_type": "code",
      "source": [
        "schema = StructType([\n",
        "    StructField(\"Product type\", StringType(), True),\n",
        "    StructField(\"SKU\", StringType(), True),\n",
        "    StructField(\"Price\", FloatType(), True),\n",
        "    StructField(\"Availability\", IntegerType(), True),\n",
        "    StructField(\"Number of products sold\", IntegerType(), True),\n",
        "    StructField(\"Revenue generated\", FloatType(), True),\n",
        "    StructField(\"Customer demographics\", StringType(), True),\n",
        "    StructField(\"Stock levels\", IntegerType(), True),\n",
        "    StructField(\"Lead times\", IntegerType(), True),\n",
        "    StructField(\"Order quantities\", IntegerType(), True),\n",
        "    StructField(\"Shipping times\", IntegerType(), True),\n",
        "    StructField(\"Shipping carriers\", StringType(), True),\n",
        "    StructField(\"Shipping costs\", FloatType(), True),\n",
        "    StructField(\"Supplier name\", StringType(), True),\n",
        "    StructField(\"Location\", StringType(), True),\n",
        "    StructField(\"Lead time\", IntegerType(), True),\n",
        "    StructField(\"Production volumes\", IntegerType(), True),\n",
        "    StructField(\"Manufacturing lead time\", IntegerType(), True),\n",
        "    StructField(\"Manufacturing costs\", FloatType(), True),\n",
        "    StructField(\"Inspection results\", StringType(), True),\n",
        "    StructField(\"Defect rates\", FloatType(), True),\n",
        "    StructField(\"Transportation modes\", StringType(), True),\n",
        "    StructField(\"Routes\", StringType(), True),\n",
        "    StructField(\"Costs\", FloatType(), True)\n",
        "])\n"
      ],
      "metadata": {
        "id": "_WMoQ9qAt6F_"
      },
      "execution_count": 46,
      "outputs": []
    },
    {
      "cell_type": "code",
      "source": [
        "spark_df = spark.createDataFrame(df, schema=schema)"
      ],
      "metadata": {
        "id": "G4v53BfTt7zF"
      },
      "execution_count": 50,
      "outputs": []
    },
    {
      "cell_type": "code",
      "source": [
        "spark_df.createOrReplaceTempView(\"Supplychain_data\")"
      ],
      "metadata": {
        "id": "7cCxW4stt-l1"
      },
      "execution_count": 51,
      "outputs": []
    },
    {
      "cell_type": "code",
      "source": [
        "result = spark.sql(\"SELECT * FROM Supplychain_data\")\n",
        "result.show()"
      ],
      "metadata": {
        "colab": {
          "base_uri": "https://localhost:8080/"
        },
        "id": "hwEqABJ4u0h3",
        "outputId": "438f5af0-3d00-4c11-9634-2a07ae01ab31"
      },
      "execution_count": 52,
      "outputs": [
        {
          "output_type": "stream",
          "name": "stdout",
          "text": [
            "+------------+-----+---------+------------+-----------------------+-----------------+---------------------+------------+----------+----------------+--------------+-----------------+--------------+-------------+---------+---------+------------------+-----------------------+-------------------+------------------+------------+--------------------+-------+---------+\n",
            "|Product type|  SKU|    Price|Availability|Number of products sold|Revenue generated|Customer demographics|Stock levels|Lead times|Order quantities|Shipping times|Shipping carriers|Shipping costs|Supplier name| Location|Lead time|Production volumes|Manufacturing lead time|Manufacturing costs|Inspection results|Defect rates|Transportation modes| Routes|    Costs|\n",
            "+------------+-----+---------+------------+-----------------------+-----------------+---------------------+------------+----------+----------------+--------------+-----------------+--------------+-------------+---------+---------+------------------+-----------------------+-------------------+------------------+------------+--------------------+-------+---------+\n",
            "|    haircare| SKU0| 69.80801|          55|                    802|         8661.997|           Non-binary|          58|         7|              96|             4|        Carrier B|      2.956572|   Supplier 3|   Mumbai|       29|               215|                     29|           46.27988|           Pending|  0.22641036|                Road|Route B|187.75208|\n",
            "|    skincare| SKU1|14.843523|          95|                    736|           7460.9|               Female|          53|        30|              37|             2|        Carrier A|      9.716575|   Supplier 3|   Mumbai|       23|               517|                     30|          33.616768|           Pending|    4.854068|                Road|Route B|503.06558|\n",
            "|    haircare| SKU2|11.319683|          34|                      8|          9577.75|              Unknown|           1|        10|              88|             2|        Carrier B|       8.05448|   Supplier 1|   Mumbai|       12|               971|                     27|          30.688019|           Pending|   4.5805926|                 Air|Route C|141.92029|\n",
            "|    skincare| SKU3| 61.16334|          68|                     83|        7766.8364|           Non-binary|          23|        13|              59|             6|        Carrier C|     1.7295686|   Supplier 5|  Kolkata|       24|               937|                     18|           35.62474|              Fail|    4.746649|                Rail|Route A|254.77615|\n",
            "|    skincare| SKU4| 4.805496|          26|                    871|        2686.5051|           Non-binary|           5|         3|              56|             8|        Carrier A|      3.890548|   Supplier 1|    Delhi|        5|               414|                      3|           92.06516|              Fail|   3.1455796|                 Air|Route A| 923.4406|\n",
            "|    haircare| SKU5| 1.699976|          87|                    147|        2828.3486|           Non-binary|          90|        27|              66|             3|        Carrier B|      4.444099|   Supplier 4|Bangalore|       10|               104|                     17|          56.766476|              Fail|   2.7791934|                Road|Route A|235.46124|\n",
            "|    skincare| SKU6| 4.078333|          48|                     65|        7823.4766|                 Male|          11|        15|              58|             8|        Carrier C|     3.8807633|   Supplier 3|  Kolkata|       14|               314|                     24|          1.0850686|           Pending|   1.0009106|                 Sea|Route A| 134.3691|\n",
            "|   cosmetics| SKU7|42.958385|          59|                    426|         8496.104|               Female|          93|        17|              11|             1|        Carrier B|     2.3483388|   Supplier 4|Bangalore|       22|               564|                      1|           99.46611|              Fail|  0.39817718|                Road|Route C|802.05634|\n",
            "|   cosmetics| SKU8|  68.7176|          78|                    150|        7517.3633|               Female|           5|        10|              15|             7|        Carrier C|      3.404734|   Supplier 4|   Mumbai|       13|               769|                      8|          11.423027|           Pending|   2.7098627|                 Sea|Route B|505.55713|\n",
            "|    skincare| SKU9| 64.01573|          35|                    980|         4971.146|              Unknown|          14|        27|              83|             1|        Carrier A|     7.1666455|   Supplier 2|  Chennai|       29|               963|                     23|          47.957603|           Pending|   3.8446145|                Rail|Route B|995.92944|\n",
            "|    skincare|SKU10|15.707796|          11|                    996|        2330.9658|           Non-binary|          51|        13|              80|             2|        Carrier C|      8.673211|   Supplier 5|  Kolkata|       18|               830|                      5|           96.52735|              Pass|   1.7273139|                Road|Route B|806.10315|\n",
            "|    skincare|SKU11| 90.63546|          95|                    960|        6099.9443|               Female|          46|        23|              60|             1|        Carrier A|      4.523943|   Supplier 2|  Kolkata|       28|               362|                     11|          27.592363|           Pending|  0.02116982|                 Air|Route A|126.72303|\n",
            "|    haircare|SKU12| 71.21339|          41|                    336|        2873.7415|              Unknown|         100|        30|              85|             4|        Carrier A|      1.325274|   Supplier 4|  Kolkata|        3|               563|                      3|          32.321285|              Fail|   2.1612537|                Road|Route B|402.96878|\n",
            "|    skincare|SKU13|16.160393|           5|                    249|        4052.7385|                 Male|          80|         8|              48|             9|        Carrier A|      9.537283|   Supplier 5|Bangalore|       23|               173|                     10|           97.82905|           Pending|   1.6310742|                Road|Route B|  547.241|\n",
            "|    skincare|SKU14|99.171326|          26|                    562|         8653.571|           Non-binary|          54|        29|              78|             5|        Carrier B|     2.0397701|   Supplier 1|  Kolkata|       25|               558|                     14|          5.7914367|           Pending| 0.100682855|                 Air|Route B| 929.2353|\n",
            "|    skincare|SKU15|36.989246|          94|                    469|         5442.087|           Non-binary|           9|         8|              69|             7|        Carrier B|     2.4220397|   Supplier 1|Bangalore|       14|               580|                      7|          97.121284|              Pass|   2.2644057|                 Sea|Route B| 127.8618|\n",
            "|    skincare|SKU16| 7.547172|          74|                    280|         6453.798|               Female|           2|         5|              78|             1|        Carrier B|     4.1913247|   Supplier 1|Bangalore|        3|               399|                     21|          77.106346|              Pass|   1.0125631|                 Air|Route A|865.52576|\n",
            "|   cosmetics|SKU17| 81.46253|          82|                    126|        2629.3965|               Female|          45|        17|              85|             9|        Carrier C|      3.585419|   Supplier 1|  Chennai|        7|               453|                     16|           47.67968|              Fail| 0.102020755|                 Air|Route C| 670.9344|\n",
            "|    haircare|SKU18|36.443626|          23|                    620|         9364.674|              Unknown|          10|        10|              46|             8|        Carrier C|      4.339225|   Supplier 2|  Kolkata|       18|               374|                     17|           27.10798|           Pending|    2.231939|                 Sea|Route A| 593.4803|\n",
            "|    skincare|SKU19| 51.12387|         100|                    187|        2553.4956|              Unknown|          48|        11|              94|             3|        Carrier A|     4.7426357|   Supplier 4|  Chennai|       20|               694|                     16|           82.37332|              Fail|   3.6464508|                Road|Route C|477.30762|\n",
            "+------------+-----+---------+------------+-----------------------+-----------------+---------------------+------------+----------+----------------+--------------+-----------------+--------------+-------------+---------+---------+------------------+-----------------------+-------------------+------------------+------------+--------------------+-------+---------+\n",
            "only showing top 20 rows\n",
            "\n"
          ]
        }
      ]
    },
    {
      "cell_type": "code",
      "source": [
        "output_path = \"/content/Supplychain_data.parquet\"\n",
        "spark_df.write.parquet(output_path)"
      ],
      "metadata": {
        "id": "DtspROzzvVSX"
      },
      "execution_count": 56,
      "outputs": []
    },
    {
      "cell_type": "code",
      "source": [
        "# List files to ensure the Parquet file is saved\n",
        "os.listdir('/content')"
      ],
      "metadata": {
        "colab": {
          "base_uri": "https://localhost:8080/"
        },
        "id": "zo0U2s7cvqTn",
        "outputId": "a2ef62c1-cc5b-48e0-f962-154f985bec85"
      },
      "execution_count": 57,
      "outputs": [
        {
          "output_type": "execute_result",
          "data": {
            "text/plain": [
              "['.config',\n",
              " '.ipynb_checkpoints',\n",
              " 'supply_chain_data.csv',\n",
              " 'spark-warehouse',\n",
              " 'Supplychain_data.parquet',\n",
              " 'sample_data']"
            ]
          },
          "metadata": {},
          "execution_count": 57
        }
      ]
    },
    {
      "cell_type": "code",
      "source": [
        "from google.colab import files\n",
        "\n",
        "files.download('/content/Supplychain_data.parquet')"
      ],
      "metadata": {
        "colab": {
          "base_uri": "https://localhost:8080/",
          "height": 34
        },
        "id": "-8Lo42R6v3r3",
        "outputId": "5a9eab5a-a8c8-4443-cfb9-014cb991a828"
      },
      "execution_count": 58,
      "outputs": [
        {
          "output_type": "display_data",
          "data": {
            "text/plain": [
              "<IPython.core.display.Javascript object>"
            ],
            "application/javascript": [
              "\n",
              "    async function download(id, filename, size) {\n",
              "      if (!google.colab.kernel.accessAllowed) {\n",
              "        return;\n",
              "      }\n",
              "      const div = document.createElement('div');\n",
              "      const label = document.createElement('label');\n",
              "      label.textContent = `Downloading \"${filename}\": `;\n",
              "      div.appendChild(label);\n",
              "      const progress = document.createElement('progress');\n",
              "      progress.max = size;\n",
              "      div.appendChild(progress);\n",
              "      document.body.appendChild(div);\n",
              "\n",
              "      const buffers = [];\n",
              "      let downloaded = 0;\n",
              "\n",
              "      const channel = await google.colab.kernel.comms.open(id);\n",
              "      // Send a message to notify the kernel that we're ready.\n",
              "      channel.send({})\n",
              "\n",
              "      for await (const message of channel.messages) {\n",
              "        // Send a message to notify the kernel that we're ready.\n",
              "        channel.send({})\n",
              "        if (message.buffers) {\n",
              "          for (const buffer of message.buffers) {\n",
              "            buffers.push(buffer);\n",
              "            downloaded += buffer.byteLength;\n",
              "            progress.value = downloaded;\n",
              "          }\n",
              "        }\n",
              "      }\n",
              "      const blob = new Blob(buffers, {type: 'application/binary'});\n",
              "      const a = document.createElement('a');\n",
              "      a.href = window.URL.createObjectURL(blob);\n",
              "      a.download = filename;\n",
              "      div.appendChild(a);\n",
              "      a.click();\n",
              "      div.remove();\n",
              "    }\n",
              "  "
            ]
          },
          "metadata": {}
        },
        {
          "output_type": "display_data",
          "data": {
            "text/plain": [
              "<IPython.core.display.Javascript object>"
            ],
            "application/javascript": [
              "download(\"download_21f659cf-24e6-4fd9-b7da-b3dea827237a\", \"Supplychain_data.parquet\", 4096)"
            ]
          },
          "metadata": {}
        }
      ]
    },
    {
      "cell_type": "code",
      "source": [
        "# Path to the saved Parquet file\n",
        "parquet_file_path = \"/content/Supplychain_data.parquet\"\n",
        "\n",
        "# Load the Parquet file into a DataFrame\n",
        "parquet_df = spark.read.parquet(parquet_file_path)"
      ],
      "metadata": {
        "id": "qR_tSodFwBh3"
      },
      "execution_count": 59,
      "outputs": []
    },
    {
      "cell_type": "code",
      "source": [
        "# Perform a simple query\n",
        "result = spark.sql(\"SELECT * FROM Supplychain_data\")\n",
        "result.show()\n"
      ],
      "metadata": {
        "colab": {
          "base_uri": "https://localhost:8080/"
        },
        "id": "p66uGQknxQJH",
        "outputId": "a60a5dd4-b1ff-423b-e4b7-2a0b3c0cb597"
      },
      "execution_count": 68,
      "outputs": [
        {
          "output_type": "stream",
          "name": "stdout",
          "text": [
            "+------------+-----+---------+------------+-----------------------+-----------------+---------------------+------------+----------+----------------+--------------+-----------------+--------------+-------------+---------+---------+------------------+-----------------------+-------------------+------------------+------------+--------------------+-------+----------+\n",
            "|Product type|  SKU|    Price|Availability|Number of products sold|Revenue generated|Customer demographics|Stock levels|Lead times|Order quantities|Shipping times|Shipping carriers|Shipping costs|Supplier name| Location|Lead time|Production volumes|Manufacturing lead time|Manufacturing costs|Inspection results|Defect rates|Transportation modes| Routes|     Costs|\n",
            "+------------+-----+---------+------------+-----------------------+-----------------+---------------------+------------+----------+----------------+--------------+-----------------+--------------+-------------+---------+---------+------------------+-----------------------+-------------------+------------------+------------+--------------------+-------+----------+\n",
            "|   cosmetics|SKU50|14.203485|          91|                    633|        5910.8853|               Female|          31|        23|              82|            10|        Carrier A|      6.247861|   Supplier 2|    Delhi|       20|               306|                     21|          45.178757|              Fail|    4.754801|                Rail|Route B| 496.24866|\n",
            "|    haircare|SKU51|26.700762|          61|                    154|         9866.466|                 Male|         100|         4|              52|             1|        Carrier A|     4.7830005|   Supplier 5|Bangalore|       18|               673|                     28|          14.190329|           Pending|   1.7729511|                Road|Route A|  694.9823|\n",
            "|    skincare|SKU52| 98.03183|           1|                    820|         9435.763|                 Male|          64|        11|              11|             1|        Carrier B|      8.631052|   Supplier 1|   Mumbai|       10|               727|                     27|           9.166849|           Pending|   2.1224716|                 Air|Route C|  602.8985|\n",
            "|    skincare|SKU53| 30.34147|          93|                    242|         8232.335|                 Male|          96|        25|              54|             3|        Carrier B|     1.0134866|   Supplier 1|    Delhi|        1|               631|                     17|           83.34406|           Pending|   1.4103476|                 Air|Route B| 750.73785|\n",
            "|    haircare|SKU54|31.146244|          11|                    622|        6088.0215|           Non-binary|          33|        22|              61|             3|        Carrier B|     4.3051033|   Supplier 1|  Kolkata|       26|               497|                     29|          30.186024|              Pass|    2.478772|                Road|Route B|    814.07|\n",
            "|    haircare|SKU55| 79.85506|          16|                    701|         2925.675|                 Male|          97|        11|              11|             5|        Carrier A|     5.0143647|   Supplier 2|    Delhi|       27|               918|                      5|          30.323545|              Fail|   4.5489197|                 Sea|Route B| 323.01294|\n",
            "|    skincare|SKU56|20.986385|          90|                     93|        4767.0205|           Non-binary|          25|        23|              83|             5|        Carrier C|     1.7744297|   Supplier 1|   Mumbai|       24|               826|                     28|          12.836285|              Pass|   1.1737555|                 Air|Route B|  832.2108|\n",
            "|    haircare|SKU57|49.263206|          65|                    227|         1605.867|              Unknown|           5|        18|              51|             1|        Carrier B|      9.160559|   Supplier 2|    Delhi|       21|               588|                     25|          67.779625|           Pending|    2.511175|                Rail|Route A| 482.19125|\n",
            "|    skincare|SKU58| 59.84156|          81|                    896|        2021.1498|           Non-binary|          10|         5|              44|             7|        Carrier A|     4.9384384|   Supplier 3|    Delhi|       18|               396|                      7|           65.04742|              Fail|   1.7303747|                Road|Route B|110.364334|\n",
            "|   cosmetics|SKU59|  63.8284|          30|                    484|        1061.6185|           Non-binary|         100|        16|              26|             7|        Carrier B|     7.2937226|   Supplier 1|  Kolkata|       11|               176|                      4|          1.9007622|              Fail|    0.447194|                 Air|Route A| 312.57428|\n",
            "|    skincare|SKU60|17.028028|          16|                    380|         8864.084|               Female|          41|        27|              72|             8|        Carrier C|      4.381368|   Supplier 4|   Mumbai|       29|               929|                     24|           87.21306|              Fail|   2.8530905|                Rail|Route A|  430.1691|\n",
            "|    haircare|SKU61| 52.02875|          23|                    117|        6885.5894|              Unknown|          32|        23|              36|             7|        Carrier C|       9.03034|   Supplier 4|  Kolkata|       14|               480|                     12|           78.70239|              Fail|   4.3674707|                 Air|Route A| 164.36653|\n",
            "|   cosmetics|SKU62| 72.79636|          89|                    270|        3899.7468|              Unknown|          86|         2|              40|             7|        Carrier C|     7.2917013|   Supplier 2|   Mumbai|       13|               751|                     14|          21.048643|              Pass|   1.8740014|                 Sea|Route C| 320.84653|\n",
            "|    skincare|SKU63|13.017377|          55|                    246|         4256.949|           Non-binary|          54|        19|              10|             4|        Carrier A|     2.4579334|   Supplier 3|Bangalore|       18|               736|                     10|          20.075005|           Pending|   3.6328433|                 Sea|Route A|  687.2862|\n",
            "|    skincare|SKU64|89.634094|          11|                    134|          8458.73|               Female|          73|        27|              75|             6|        Carrier C|     4.5853534|   Supplier 1|    Delhi|       17|               328|                      6|           8.693043|              Fail|  0.15948631|                 Air|Route C|  771.2251|\n",
            "|    skincare|SKU65|33.697716|          72|                    457|          8354.58|                 Male|          57|        24|              54|             8|        Carrier C|      6.580541|   Supplier 5|  Kolkata|       16|               358|                     21|          1.5972227|              Fail|    4.911096|                Rail|Route C| 555.85913|\n",
            "|    skincare|SKU66| 26.03487|          52|                    704|         8367.722|               Female|          13|        17|              19|             8|        Carrier A|     2.2161427|   Supplier 5|  Kolkata|       24|               867|                     28|           42.08444|              Fail|   3.4480634|                Road|Route A| 393.84335|\n",
            "|    skincare|SKU67| 87.75543|          16|                    513|         9473.798|              Unknown|          12|         9|              71|             9|        Carrier C|      9.147812|   Supplier 1|   Mumbai|       10|               198|                     11|           7.057876|              Pass|  0.13195544|                 Sea|Route C|  169.2718|\n",
            "|    haircare|SKU68|37.931812|          29|                    163|        3550.2185|           Non-binary|           0|         8|              58|             8|        Carrier B|     1.1942519|   Supplier 2|Bangalore|        2|               375|                     18|           97.11358|              Fail|   1.9834678|                Rail|Route A|  299.7063|\n",
            "|    skincare|SKU69| 54.86553|          62|                    511|        1752.3811|           Non-binary|          95|         1|              27|             3|        Carrier B|      9.705287|   Supplier 4|  Kolkata|        9|               862|                      7|           77.62777|           Pending|    1.362388|                 Air|Route A| 207.66321|\n",
            "+------------+-----+---------+------------+-----------------------+-----------------+---------------------+------------+----------+----------------+--------------+-----------------+--------------+-------------+---------+---------+------------------+-----------------------+-------------------+------------------+------------+--------------------+-------+----------+\n",
            "only showing top 20 rows\n",
            "\n"
          ]
        }
      ]
    },
    {
      "cell_type": "code",
      "source": [
        "# Example of an advanced query: Calculate average price by product type\n",
        "Total_price_by_product_type = spark.sql(\"\"\"\n",
        "SELECT `Product type`, SUM(Price) AS Total_price\n",
        "FROM Supplychain_data\n",
        "GROUP BY `Product type`\n",
        "\"\"\")\n",
        "Total_price_by_product_type.show()"
      ],
      "metadata": {
        "colab": {
          "base_uri": "https://localhost:8080/"
        },
        "id": "fqWo47igxWcH",
        "outputId": "f9940112-075b-4779-bdf4-23c85ab3175f"
      },
      "execution_count": 69,
      "outputs": [
        {
          "output_type": "stream",
          "name": "stdout",
          "text": [
            "+------------+------------------+\n",
            "|Product type|       Total_price|\n",
            "+------------+------------------+\n",
            "|    skincare|1890.3731541633606|\n",
            "|   cosmetics|1491.3875029087067|\n",
            "|    haircare|1564.4854910373688|\n",
            "+------------+------------------+\n",
            "\n"
          ]
        }
      ]
    },
    {
      "cell_type": "code",
      "source": [],
      "metadata": {
        "id": "sZjy00cQxgkH"
      },
      "execution_count": null,
      "outputs": []
    }
  ],
  "metadata": {
    "colab": {
      "provenance": [],
      "authorship_tag": "ABX9TyPh5raTuN5Wg2vw3kEnsr68",
      "include_colab_link": true
    },
    "kernelspec": {
      "display_name": "Python 3",
      "name": "python3"
    },
    "language_info": {
      "name": "python"
    }
  },
  "nbformat": 4,
  "nbformat_minor": 0
}